{
  "nbformat": 4,
  "nbformat_minor": 0,
  "metadata": {
    "colab": {
      "provenance": [],
      "include_colab_link": true
    },
    "kernelspec": {
      "name": "python3",
      "display_name": "Python 3"
    }
  },
  "cells": [
    {
      "cell_type": "markdown",
      "metadata": {
        "id": "view-in-github",
        "colab_type": "text"
      },
      "source": [
        "<a href=\"https://colab.research.google.com/github/YSHS-APCSP-2022/python-1-Tyree-FR/blob/main/Python_3_Randomness.ipynb\" target=\"_parent\"><img src=\"https://colab.research.google.com/assets/colab-badge.svg\" alt=\"Open In Colab\"/></a>"
      ]
    },
    {
      "cell_type": "markdown",
      "metadata": {
        "id": "AJZX0MjdY2Op"
      },
      "source": [
        "# Randomness\n",
        "Sometimes it is useful to incorporate a bit of randomness into your code. From spawning enemies, to guessing games, to randomly selecting the order, randomness is essential to a lot of code. \n",
        "\n",
        "To keep python sleek only certain functions, like print(), are loaded with base python. Other functions, like the random functions, need to be loaded into the python environment. Collections of functions are called libraries and to access them you need to import the library in a code cell. This is usually done at the top of your code.\n",
        "``` python\n",
        "import random\n",
        "```\n",
        "This imports the library random that has several random functions that we will use. Below are two examples of the random function run the cells below and see what the \n",
        "```python\n",
        "random.randint()\n",
        "```\n",
        "and the random.choice()  do\n",
        "```python\n",
        "random.choice()\n",
        "```"
      ]
    },
    {
      "cell_type": "code",
      "metadata": {
        "id": "jEDVby0OSxkK",
        "colab": {
          "base_uri": "https://localhost:8080/"
        },
        "outputId": "d5ee630b-b4b4-4a92-e7f7-86df25568671"
      },
      "source": [
        "import random\n",
        "#randint stands for random integer\n",
        "print(random.randint(0,100))"
      ],
      "execution_count": 1,
      "outputs": [
        {
          "output_type": "stream",
          "name": "stdout",
          "text": [
            "45\n"
          ]
        }
      ]
    },
    {
      "cell_type": "code",
      "metadata": {
        "id": "Yu_KJAkeS9_K",
        "colab": {
          "base_uri": "https://localhost:8080/",
          "height": 37
        },
        "outputId": "36960a51-0899-4aac-ac9b-01f21ae457fb"
      },
      "source": [
        "import random\n",
        "#note that you need 2 parentheses, the first one is to group the candy bars and the second one is to run the random.choice around it\n",
        "random.choice((\"Snickers\",\"Twix\",\"Nerds\",\"Kit Kats\"))\n"
      ],
      "execution_count": 29,
      "outputs": [
        {
          "output_type": "execute_result",
          "data": {
            "text/plain": [
              "'Twix'"
            ],
            "application/vnd.google.colaboratory.intrinsic+json": {
              "type": "string"
            }
          },
          "metadata": {},
          "execution_count": 29
        }
      ]
    },
    {
      "cell_type": "markdown",
      "metadata": {
        "id": "Rui7G49OTiMT"
      },
      "source": [
        "# Make a Guessing Game\n",
        "\n",
        "1. Define a function called guessing game that takes 1 input number\n",
        "2. In the function randomly pick a number from 1 to 5 (see random.randint())\n",
        "3. If the guess == the randomly picked number print you got it\n",
        "4. Else print \"you did not get the number correct, you guessed [input guess] and the random number was [input random number]"
      ]
    },
    {
      "cell_type": "code",
      "metadata": {
        "id": "UiL_R6zVUQl6",
        "colab": {
          "base_uri": "https://localhost:8080/"
        },
        "outputId": "e7d20500-a7a1-4ac7-8ce4-572f8a7a0731"
      },
      "source": [
        "import random\n",
        "def pickey():\n",
        "  answer = random.randint(1,5)\n",
        "  guess = int(input(\"guess 1-5\"))\n",
        "  if answer == guess:\n",
        "    print(\"you got it right \")\n",
        "  else:\n",
        "    print(\"your wrong\")\n",
        "    print(answer)\n",
        "pickey()"
      ],
      "execution_count": 57,
      "outputs": [
        {
          "output_type": "stream",
          "name": "stdout",
          "text": [
            "guess 1-52\n",
            "you got it right \n"
          ]
        }
      ]
    },
    {
      "cell_type": "markdown",
      "metadata": {
        "id": "oQHBqn_HURfy"
      },
      "source": [
        "# Guessing Game 2.0\n",
        "1. Define a function called guessing game that takes 1 input number\n",
        "2. In the function randomly pick a number from 1 to 5 (see random.randint())\n",
        "3. If the guess == the randomly picked number print you got it\n",
        "4. If the guess > the randomly picked number print \"Your guess is too high\"\n",
        "5. If the guess < the randomly picked number print \"Your guess is too low\" \n",
        "\n",
        "*when you have stacked if statements that are checked one after the other the next if should be an elif (which stands for elseif) see the code below for an example *\n",
        "\n",
        "```python\n",
        "pet = 'dog'\n",
        "if pet == 'cat':\n",
        "  print(\"you have a cat\")\n",
        "elif pet == 'dog':\n",
        "  print(\"you have a dog\")\n",
        "elif pet == 'bird':\n",
        "  print(\"you have a bird\")\n",
        "else:\n",
        "  print(\"You have a \" + pet)\n",
        "```\n"
      ]
    },
    {
      "cell_type": "code",
      "metadata": {
        "id": "B4uXynQpYwZS",
        "colab": {
          "base_uri": "https://localhost:8080/"
        },
        "outputId": "f2ff8ebf-b46c-46c5-95bf-e15b8da51551"
      },
      "source": [
        "import random\n",
        "def pickey():\n",
        "  answer = random.randint(1,5)\n",
        "  guess = int(input(\"guess 1-5\"))\n",
        "  if answer == guess:\n",
        "    print(\"you got it right \")\n",
        "  else:\n",
        "    print(\"your wrong\")\n",
        "    print(answer)\n",
        "  if guess > answer:\n",
        "    print(\"to high\")\n",
        "  if guess < answer:\n",
        "    print(\"to low\")\n",
        "pickey()"
      ],
      "execution_count": 60,
      "outputs": [
        {
          "output_type": "stream",
          "name": "stdout",
          "text": [
            "guess 1-53\n",
            "your wrong\n",
            "5\n",
            "to low\n"
          ]
        }
      ]
    }
  ]
}