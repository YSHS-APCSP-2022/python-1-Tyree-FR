{
  "nbformat": 4,
  "nbformat_minor": 0,
  "metadata": {
    "kernelspec": {
      "display_name": "Python 3",
      "language": "python",
      "name": "python3"
    },
    "language_info": {
      "codemirror_mode": {
        "name": "ipython",
        "version": 3
      },
      "file_extension": ".py",
      "mimetype": "text/x-python",
      "name": "python",
      "nbconvert_exporter": "python",
      "pygments_lexer": "ipython3",
      "version": "3.7.1"
    },
    "colab": {
      "provenance": [],
      "collapsed_sections": [],
      "include_colab_link": true
    }
  },
  "cells": [
    {
      "cell_type": "markdown",
      "metadata": {
        "id": "view-in-github",
        "colab_type": "text"
      },
      "source": [
        "<a href=\"https://colab.research.google.com/github/YSHS-APCSP-2022/python-1-Tyree-FR/blob/main/Python_2.ipynb\" target=\"_parent\"><img src=\"https://colab.research.google.com/assets/colab-badge.svg\" alt=\"Open In Colab\"/></a>"
      ]
    },
    {
      "cell_type": "markdown",
      "metadata": {
        "id": "d77RZt2NJy6T"
      },
      "source": [
        "# Python \n",
        "<i> Make a copy of the Colaboratory Notebook. Complete the below activities. Upload document into Google Classroom. </i>\n",
        "\n",
        "Could you make a program in Scratch™ programming language that will check several websites each day for merchandise on sale, compare the merchandise to artificial intelligence about your taste and price range, and then text you if anything exciting comes along?\n",
        "\n",
        "You could with Python® programming language! If computers can do it, your team can make it happen with Python! From landing a rover on Mars to predicting the weather, Python is a versatile language that can get the job done!\n",
        "\n"
      ]
    },
    {
      "cell_type": "markdown",
      "metadata": {
        "canopy_exercise": {
          "cell_type": "question"
        },
        "id": "4lEILZ60Jy6b"
      },
      "source": [
        "Python is very powerful because it is easy to incorporate code that other people have already written. These are called modules, and they can be imported from libraries of packages. Try the following input in the cell below.\n"
      ]
    },
    {
      "cell_type": "code",
      "metadata": {
        "id": "7HZpcq_YJy6c",
        "outputId": "e26949d2-7f6f-46e1-8c5b-3ab1ffddb3ed",
        "colab": {
          "base_uri": "https://localhost:8080/",
          "height": 268
        }
      },
      "source": [
        "%matplotlib inline\n",
        "import matplotlib.pyplot as plt\n",
        "from numpy import random\n",
        "\n",
        "a = random.randn(10000)\n",
        "plt.hist(a)\n",
        "plt.show()\n"
      ],
      "execution_count": 1,
      "outputs": [
        {
          "output_type": "display_data",
          "data": {
            "text/plain": [
              "<Figure size 432x288 with 1 Axes>"
            ],
            "image/png": "[encoded data removed]"
          },
          "metadata": {
            "needs_background": "light"
          }
        }
      ]
    },
    {
      "cell_type": "markdown",
      "metadata": {
        "id": "15QY-xLNJy6i"
      },
      "source": [
        "You have just made Python pick 10,000 random numbers from a normal distribution (the “Bell” curve) and plot them in a histogram! Before diving into the power that the Python libraries will give you, you'll want to learn the basics of the language. As you begin to learn Python, you’ll recognize some familiar elements from languages that we have used in the past as well as some new ones. After you learn a bit of one text-based programming language, learning other languages is much easier. The difficulties of learning the first one are well worth it. \n",
        "\n",
        "\n",
        "# Part 1: Numeric Types\n",
        "\n",
        "Python session will evaluate expressions, and if you don't tell it to do anything with the expression, IPython will send the result back to you as output. Try adding two integers: <b> 5 +3 </b> in the cell below. "
      ]
    },
    {
      "cell_type": "code",
      "metadata": {
        "id": "SkV-G8oAJy6j",
        "outputId": "2390e92e-6528-4961-aa74-8ff16167d7d1",
        "colab": {
          "base_uri": "https://localhost:8080/"
        }
      },
      "source": [
        "5+3"
      ],
      "execution_count": 2,
      "outputs": [
        {
          "output_type": "execute_result",
          "data": {
            "text/plain": [
              "8"
            ]
          },
          "metadata": {},
          "execution_count": 2
        }
      ]
    },
    {
      "cell_type": "markdown",
      "metadata": {
        "id": "L3-mKTjvJy6m"
      },
      "source": [
        "Python can do math."
      ]
    },
    {
      "cell_type": "markdown",
      "metadata": {
        "id": "PanX6UWWJy6m"
      },
      "source": [
        "Adding two integer types results in an int, which can only represent an integer. It is of type int. A variable is a place in memory to hold data, and a variable’s type says what sort of things the bits in memory represent. The type int is a Python native type, meaning that the data abstraction is built into the language. Some of Python's variable types.\n",
        "\n",
        "| Variable Type        | Represents           | Example Values  |\n",
        "| ------------- |:-------------:| -----:|\n",
        "| int    | integers | 3,5, or -7000 |\n",
        "| float   | any real number      |   3., 5.2, 6.3e-4 |\n",
        "| boolean | True or False      |   True |\n",
        "| str | any characters     |   'hi there' or '2?' |\n",
        "\n"
      ]
    },
    {
      "cell_type": "code",
      "metadata": {
        "id": "vHHn5KrwJy6s"
      },
      "source": [
        "\n",
        "a=2"
      ],
      "execution_count": 4,
      "outputs": []
    },
    {
      "cell_type": "markdown",
      "metadata": {
        "id": "S1AyEKcYJy6u"
      },
      "source": [
        "You can assign a value to a variable. In the below cell assign the value of 2 to the variable a by typing and running the following code\n",
        "```python\n",
        "a = 2\n",
        "```\n"
      ]
    },
    {
      "cell_type": "code",
      "metadata": {
        "id": "xZirhNkeJy6v",
        "outputId": "43164291-b4f2-40a8-e706-e7c3726d5cad",
        "colab": {
          "base_uri": "https://localhost:8080/"
        }
      },
      "source": [
        "print(a)"
      ],
      "execution_count": 5,
      "outputs": [
        {
          "output_type": "stream",
          "name": "stdout",
          "text": [
            "2\n"
          ]
        }
      ]
    },
    {
      "cell_type": "markdown",
      "metadata": {
        "id": "Y2DUO4IeJy6y"
      },
      "source": [
        "Python executes the assignment command, but nothing is returned. Only the state is affected: the variable a is now bound to bits in memory that represent the value 2. When you assign a value to a variable, the variable must be on the left side of the =. It must not be part of an expression like x+1. This is one of the syntax rules for Python. The syntax of a language specifies how the symbols of the language are allowed to be put together.\n",
        "\n",
        "\n",
        "Write code to assign the value 16 to the variable student_age. Get in the practice of annotating your code with comments.\n"
      ]
    },
    {
      "cell_type": "code",
      "metadata": {
        "id": "x_O2na1eJy61"
      },
      "source": [
        "student_age=16"
      ],
      "execution_count": 7,
      "outputs": []
    },
    {
      "cell_type": "markdown",
      "metadata": {
        "id": "s7QqA8q0Jy64"
      },
      "source": [
        "You can evaluate variable expressions:\n",
        "```python\n",
        "In []: a\n",
        "Out[]: 2\n",
        "\n",
        "In []: a * 7 # multiplication\n",
        "Out[]: 14\n",
        "\n",
        "In []: 3 ** 2 # exponentiation\n",
        "Out[]: 9\n",
        "    \n",
        "```\n",
        "\n",
        "In the cell below calculate 23<sup>43</sup> ? "
      ]
    },
    {
      "cell_type": "code",
      "metadata": {
        "id": "p3CWB6maJy64",
        "outputId": "c0755e22-de2e-4d69-f2ac-3468bae9e600",
        "colab": {
          "base_uri": "https://localhost:8080/"
        }
      },
      "source": [
        "23**43"
      ],
      "execution_count": 6,
      "outputs": [
        {
          "output_type": "execute_result",
          "data": {
            "text/plain": [
              "35834136918934220777541995677272642015423987712183913488967"
            ]
          },
          "metadata": {},
          "execution_count": 6
        }
      ]
    },
    {
      "cell_type": "markdown",
      "metadata": {
        "id": "zJDObwxkJy66"
      },
      "source": [
        "You can also call existing functions and they will return a value:\n",
        "```python\n",
        "In []: abs(-7) # absolute value function\n",
        "Out[]: 7\n",
        "    \n",
        "```\n",
        "The function abs() is a Python built-in function. A full list of the 80 built-in functions is available at http://docs.python.org/2/library/functions.html .\n",
        "\n",
        "\n"
      ]
    },
    {
      "cell_type": "code",
      "metadata": {
        "id": "NzORN9YHTSGM"
      },
      "source": [],
      "execution_count": null,
      "outputs": []
    },
    {
      "cell_type": "markdown",
      "metadata": {
        "id": "LPXGvOogTSlh"
      },
      "source": [
        "# Function Definitions\n",
        "You can also define your own function. Since that requires more than one line of code. Run the cell below. This will save the function into your python terminal. You won't observe any output, but your code has now defined a new function, binding the function name add_tip() to the code, and adding the function name to the namespace. The namespace is the collection of words that have meaning to the interpreter or compiler. "
      ]
    },
    {
      "cell_type": "code",
      "metadata": {
        "id": "kHFLQd8WJy67"
      },
      "source": [
        "def add_tip(total, tip_percent): \n",
        "    ''' Return the total amount including tip'''\n",
        "    tip = tip_percent*total\n",
        "    return total + tip"
      ],
      "execution_count": null,
      "outputs": []
    },
    {
      "cell_type": "markdown",
      "metadata": {
        "id": "QqNMPRZqJy69"
      },
      "source": [
        "The keyword def requires a block of code to define a new function. The block begins with the colon at the end of line 1. Lines 2 through 4 are indented four spaces to be part of that block.Python uses indentation. Line 2 begins and ends with '''. Between these sets of three single quotes, all text is commented out, just like the # , except that the commenting can continue over multiple lines. We call this a multi-line comment. When used at the beginning of a function definition, the comment is called a docstring because it can be accessed by a user with the command ``` python help(add_tip). ```\n",
        "\n",
        "Line 3 assigns the value calculated by tip_percent*total to a new variable, tip. Because tip is created within a block of code, it has a local scope. That means that the variable can only be used inside that block.\n",
        "\n",
        "Once a function definition is executed, you can use the function you’ve defined as many times as you wish. As shown in the two examples below, a value returned by a function can be used anywhere the value could have been used.\n",
        "\n",
        "```python \n",
        "In []: a = add_tip(20, 0.15) \n",
        "In []: a\n",
        "Out[]: 23.0\n",
        "In []: add_tip(30, 0.15) \n",
        "Out[]: 34.5\n",
        "```\n",
        "In the cell below call the add_tip function using the code ```python add_tip(30) ``` and write a comment that explains its output."
      ]
    },
    {
      "cell_type": "markdown",
      "source": [
        "add_tip(50,.2"
      ],
      "metadata": {
        "id": "Ocle9K4kJy6-"
      }
    },
    {
      "cell_type": "markdown",
      "metadata": {
        "id": "qvBMc9w9Jy7A"
      },
      "source": [
        "Complete one or more of the following problems (a, b, and/or c) as directed by your teacher. You can create your functions by continuing the same Python file containing your definition of the add_tip() function. Make sure to strategize before you code, deciding what your algorithm will do. As you pair program, don't forget the steps of the software design process.\n",
        "\n",
        "Normally, functions should validate input arguments. Validating input means checking that the input is what you expect, such as positive numbers for the lengths of a triangle’s sides. Also, testing your code should usually involve writing a test suite, which is a program that does the testing for you. We’ll come back to those ideas. For now, just demonstrate a working function in the cell below. Make sure to add comments.\n",
        "\n",
        "\n",
        "## A. Define a function ```python hyp(leg1, leg2) ``` that returns the length of the hypotenuse of a right triangle.\n",
        "\n",
        "```python\n",
        "Hint: number**0.5 takes the square root of a number. \n",
        "In []:#This is an example of what your output should look like \n",
        "In []: hyp(3,4)\n",
        "Out[]: 5.0\n",
        "```\n",
        "\n",
        "![alt text](data:image/png;base64,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)\n",
        "\n",
        "## B. Define a function ```python mean(a, b, c) ``` that returns the mean of three numbers.\n",
        "\n",
        "```python\n",
        "\n",
        "Hint: divide by 3.0 to get a float.\n",
        "In []:#This is an example of what your output should look like \n",
        "In []: mean(3,4,7)\n",
        "Out[]: 4.666666666666666721  # ignore float’s last digits!\n",
        "```\n",
        "\n",
        "\n",
        "## C. Define a function ```python perimeter(base, height) ``` that returns the perimeter of a rectangle with side lengths base and height.\n",
        "```python\n",
        "\n",
        "In []: #This is an example of what your output should look like \n",
        "In []: perimeter(3,4)\n",
        "Out[]: 14 \n",
        "```\n"
      ]
    },
    {
      "cell_type": "code",
      "metadata": {
        "id": "Pw272k__Jy7A"
      },
      "source": [],
      "execution_count": null,
      "outputs": []
    },
    {
      "cell_type": "markdown",
      "metadata": {
        "id": "U7IuztymJy7C"
      },
      "source": [
        "# Conclusion Questions\n",
        "1. Read the introduction to this activity again. Describe something you would like to have automated by a program.\n",
        "\n",
        "2. What are the native data types you learned about in this activity?\n",
        "\n",
        "3. What are some differences between the command line of the interpretive IPython session and the code editor where you edit a file of code?\n",
        "\n",
        "4. What do you think might be some of the advantages of putting code inside of a function definition?"
      ]
    }
  ]
}